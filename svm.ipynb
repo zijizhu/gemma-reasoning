{
 "cells": [
  {
   "cell_type": "code",
   "execution_count": 23,
   "metadata": {},
   "outputs": [],
   "source": [
    "import json\n",
    "import spacy\n",
    "import pandas as pd\n",
    "import numpy as np\n",
    "\n",
    "nlp = spacy.load('en_core_web_sm')\n",
    "\n",
    "depth = 1\n",
    "proofwriter_train = pd.read_json(f'proofwriter-dataset-V2020.12.3/OWA/depth-{depth}/meta-train.jsonl', lines=True)\n",
    "proofwriter_test = pd.read_json(f'proofwriter-dataset-V2020.12.3/OWA/depth-{depth}/meta-test.jsonl', lines=True)\n",
    "\n",
    "def get_dataset(df: pd.DataFrame):\n",
    "    examples = []\n",
    "    for index, row in df.iterrows():\n",
    "        premises = row['theory']\n",
    "        premises = premises.replace('. ', '\\n ')\n",
    "        question_dict = row['questions']\n",
    "        num_q = len(question_dict)\n",
    "        questions, answers = [], []\n",
    "        for i in range(1, num_q + 1):\n",
    "            questions.append(question_dict[f'Q{i}']['question'])\n",
    "            answers.append(question_dict[f'Q{i}']['answer'])\n",
    "        examples.append(dict(\n",
    "            premises=premises,\n",
    "            conclusions=questions,\n",
    "            labels=answers\n",
    "        ))\n",
    "    return examples\n",
    "\n",
    "train_examples = get_dataset(proofwriter_train)\n",
    "test_examples = get_dataset(proofwriter_test)"
   ]
  },
  {
   "cell_type": "code",
   "execution_count": 15,
   "metadata": {},
   "outputs": [],
   "source": [
    "glove_dict = dict()\n",
    "with open('glove.6B/glove.6B.50d.txt', 'r') as fp:\n",
    "    glove = fp.read().splitlines()\n",
    "for line in glove:\n",
    "    line =  line.split(' ')\n",
    "    word, nums = line[0], np.array([float(num) for num in line[1:]])\n",
    "    glove_dict[word] = nums"
   ]
  },
  {
   "cell_type": "code",
   "execution_count": 18,
   "metadata": {},
   "outputs": [
    {
     "data": {
      "text/plain": [
       "'Anne is not blue\\n Anne is cold\\n Anne is round\\n Fiona is blue\\n Fiona is furry\\n Gary is furry\\n Gary is quiet\\n Gary is smart\\n Harry is cold\\n Harry is quiet\\n If something is furry and not blue then it is nice\\n If Anne is furry then Anne is nice\\n Smart, furry things are round.'"
      ]
     },
     "execution_count": 18,
     "metadata": {},
     "output_type": "execute_result"
    }
   ],
   "source": [
    "for idx, example in enumerate(train_examples):\n",
    "   ...\n",
    "\n",
    "train_examples[0]['premises']\n",
    "\n",
    "p_vec = sentence2vec(premise)\n",
    "for q in train_examples[0]['questions']:\n",
    "   ... \n",
    "q_vec_list = []"
   ]
  },
  {
   "cell_type": "code",
   "execution_count": 44,
   "metadata": {},
   "outputs": [],
   "source": [
    "def sentence2vec(sentence: str):\n",
    "    doc = nlp(sentence)\n",
    "    tokens = [word.lower_ for word in doc]\n",
    "    print(tokens)\n",
    "    vecs = np.stack([glove_dict[tok] for tok in tokens if tok in glove_dict])\n",
    "    return np.mean(vecs, axis=0)"
   ]
  },
  {
   "cell_type": "code",
   "execution_count": 45,
   "metadata": {},
   "outputs": [
    {
     "name": "stdout",
     "output_type": "stream",
     "text": [
      "['anne', 'is', 'not', 'blue', '\\n ', 'anne', 'is', 'cold', '\\n ', 'anne', 'is', 'round', '\\n ', 'fiona', 'is', 'blue', '\\n ', 'fiona', 'is', 'furry', '\\n ', 'gary', 'is', 'furry', '\\n ', 'gary', 'is', 'quiet', '\\n ', 'gary', 'is', 'smart', '\\n ', 'harry', 'is', 'cold', '\\n ', 'harry', 'is', 'quiet', '\\n ', 'if', 'something', 'is', 'furry', 'and', 'not', 'blue', 'then', 'it', 'is', 'nice', '\\n ', 'if', 'anne', 'is', 'furry', 'then', 'anne', 'is', 'nice', '\\n ', 'smart', ',', 'furry', 'things', 'are', 'round', '.']\n",
      "(57, 50)\n"
     ]
    },
    {
     "data": {
      "text/plain": [
       "array([ 2.12484053e-01,  3.65212593e-01, -3.74428477e-01,  7.13554386e-03,\n",
       "        5.23062456e-01,  3.15265491e-01, -4.09569112e-01, -2.21966772e-01,\n",
       "       -4.77918421e-02, -1.85236772e-01, -4.10184316e-02,  3.45472596e-01,\n",
       "       -2.12867649e-01, -1.14557316e-01,  3.21596246e-01,  2.88775860e-01,\n",
       "        2.59213035e-01,  1.15913351e-01, -2.96744772e-01, -3.91666246e-01,\n",
       "       -3.29968053e-01,  2.34274961e-01,  1.89931509e-01,  2.03444561e-01,\n",
       "        1.77874070e-01, -1.28888088e+00, -3.74467123e-01,  3.97256509e-01,\n",
       "        3.06357018e-01, -2.04219719e-01,  2.49035149e+00, -9.37287649e-02,\n",
       "       -9.29462982e-02, -1.65949877e-01,  2.35537719e-02, -8.09517193e-02,\n",
       "       -9.25543860e-04,  1.49141179e-01,  6.44282895e-02, -4.39663491e-01,\n",
       "        9.01704968e-02,  2.69646158e-01, -1.19467211e-01, -8.26754386e-03,\n",
       "        6.75170263e-02,  1.94488249e-01, -5.32562281e-02, -5.65375263e-01,\n",
       "       -4.37101930e-02,  4.30473193e-01])"
      ]
     },
     "execution_count": 45,
     "metadata": {},
     "output_type": "execute_result"
    }
   ],
   "source": [
    "sentence2vec(train_examples[0]['premises'])"
   ]
  },
  {
   "cell_type": "code",
   "execution_count": null,
   "metadata": {},
   "outputs": [],
   "source": [
    "'anne' in glove_dict"
   ]
  }
 ],
 "metadata": {
  "kernelspec": {
   "display_name": "mlx",
   "language": "python",
   "name": "python3"
  },
  "language_info": {
   "codemirror_mode": {
    "name": "ipython",
    "version": 3
   },
   "file_extension": ".py",
   "mimetype": "text/x-python",
   "name": "python",
   "nbconvert_exporter": "python",
   "pygments_lexer": "ipython3",
   "version": "3.11.8"
  }
 },
 "nbformat": 4,
 "nbformat_minor": 2
}
