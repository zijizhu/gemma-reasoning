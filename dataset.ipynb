{
 "cells": [
  {
   "cell_type": "code",
   "execution_count": 15,
   "metadata": {},
   "outputs": [],
   "source": [
    "from datasets import load_dataset\n",
    "from fol import convert_to_nltk_rep\n",
    "\n",
    "folio_train = load_dataset('yale-nlp/FOLIO', split='train')\n",
    "folio_val = load_dataset('yale-nlp/FOLIO', split='validation')"
   ]
  },
  {
   "cell_type": "code",
   "execution_count": 19,
   "metadata": {},
   "outputs": [],
   "source": [
    "def fol_to_nltk(example):\n",
    "    example['premises-FOL-nltk'] = convert_to_nltk_rep(example['premises-FOL'])\n",
    "    example['conclusion-FOL-nltk'] = convert_to_nltk_rep(example['conclusion-FOL'])\n",
    "    return example"
   ]
  },
  {
   "cell_type": "code",
   "execution_count": 23,
   "metadata": {},
   "outputs": [
    {
     "data": {
      "application/vnd.jupyter.widget-view+json": {
       "model_id": "a617ec65236d47fc9cd0261e807b6048",
       "version_major": 2,
       "version_minor": 0
      },
      "text/plain": [
       "Map:   0%|          | 0/1001 [00:00<?, ? examples/s]"
      ]
     },
     "metadata": {},
     "output_type": "display_data"
    },
    {
     "data": {
      "application/vnd.jupyter.widget-view+json": {
       "model_id": "65ff363d7b3246bebc26b778cd12b2e7",
       "version_major": 2,
       "version_minor": 0
      },
      "text/plain": [
       "Map:   0%|          | 0/203 [00:00<?, ? examples/s]"
      ]
     },
     "metadata": {},
     "output_type": "display_data"
    }
   ],
   "source": [
    "folio_train = folio_train.map(fol_to_nltk)\n",
    "folio_val = folio_val.map(fol_to_nltk)"
   ]
  },
  {
   "cell_type": "code",
   "execution_count": 21,
   "metadata": {},
   "outputs": [
    {
     "data": {
      "text/plain": [
       "{'story_id': 380,\n",
       " 'premises': 'People in this club who perform in school talent shows often attend and are very engaged with school events.\\nPeople in this club either perform in school talent shows often or are inactive and disinterested community members.\\nPeople in this club who chaperone high school dances are not students who attend the school.\\nAll people in this club who are inactive and disinterested members of their community chaperone high school dances.\\nAll young children and teenagers in this club who wish to further their academic careers and educational opportunities are students who attend the school. \\nBonnie is in this club and she either both attends and is very engaged with school events and is a student who attends the school or is not someone who both attends and is very engaged with school events and is not a student who attends the school.',\n",
       " 'premises-FOL': '∀x (InThisClub(x) ∧ PerformOftenIn(x, schoolTalentShow) → Attend(x, schoolEvent) ∧ VeryEngagedWith(x, schoolEvent))\\n∀x (InThisClub(x) → PerformOftenIn(x, schoolTalentShow) ⊕ (InActive(x) ∧ Disinterested(x) ∧ MemberOf(x, community)))\\n∀x (InThisClub(x) ∧ Chaperone(x, highSchoolDance) → ¬(Studen(x) ∧ AttendSchool(x)))\\n∀x (InThisClub(x) ∧ (InActive(x) ∧ Disinterested(x) ∧ MemberOf(x, community)) → Chaperone(x, highSchoolDances))\\n∀x (InThisClub(x) ∧ (YoungChildren(x) ⊕ Teenager(x)) ∧ WishToFurther(x, academicCareer)) → Studen(x) ∧ AttendSchool(x))\\nInThisClub(bonnie) ∧ ¬((Attend(x, schoolEvent) ∧ VeryEngagedWith(bonnie, schoolEvent)) ⊕ (Studen(bonne) ∧ AttendSchool(bonnie)))',\n",
       " 'conclusion': 'Bonnie performs in school talent shows often.',\n",
       " 'conclusion-FOL': 'InThisClub(bonnie) ∧ (Perform(bonnie, schoolTalentShow))',\n",
       " 'label': 'Uncertain',\n",
       " 'example_id': 1014,\n",
       " 'premises-FOL-nltk': 'all x. (InThisClub(x) & PerformOftenIn(x, SchoolTalentShow) -> Attend(x, SchoolEvent) & VeryEngagedWith(x, SchoolEvent))\\nall x. (InThisClub(x) -> PerformOftenIn(x, SchoolTalentShow) ⊕ (InActive(x) & Disinterested(x) & MemberOf(x, Community)))\\nall x. (InThisClub(x) & Chaperone(x, HighSchoolDance) -> -(Studen(x) & AttendSchool(x)))\\nall x. (InThisClub(x) & (InActive(x) & Disinterested(x) & MemberOf(x, Community)) -> Chaperone(x, HighSchoolDances))\\nall x. (InThisClub(x) & (((YoungChildren(x) & -Teenager(x)) | (-YoungChildren(x) & Teenager(x)))) & WishToFurther(x, AcademicCareer)) -> Studen(x) & AttendSchool(x))\\nInThisClub(((Bonnie) & -((Attend(x, SchoolEvent) & VeryEngagedWith(Bonnie, SchoolEvent)) & -(Studen(Bonne) & AttendSchool(Bonnie))) | (-(Bonnie) & -((Attend(x, SchoolEvent) & VeryEngagedWith(Bonnie, SchoolEvent)) & (Studen(Bonne) & AttendSchool(Bonnie)))))',\n",
       " 'conclusion-FOL-nltk': 'InThisClub(Bonnie) & (Perform(Bonnie, SchoolTalentShow))'}"
      ]
     },
     "execution_count": 21,
     "metadata": {},
     "output_type": "execute_result"
    }
   ],
   "source": [
    "folio_val[0]"
   ]
  },
  {
   "cell_type": "code",
   "execution_count": null,
   "metadata": {},
   "outputs": [],
   "source": []
  }
 ],
 "metadata": {
  "kernelspec": {
   "display_name": "research",
   "language": "python",
   "name": "python3"
  },
  "language_info": {
   "codemirror_mode": {
    "name": "ipython",
    "version": 3
   },
   "file_extension": ".py",
   "mimetype": "text/x-python",
   "name": "python",
   "nbconvert_exporter": "python",
   "pygments_lexer": "ipython3",
   "version": "3.11.8"
  }
 },
 "nbformat": 4,
 "nbformat_minor": 2
}
