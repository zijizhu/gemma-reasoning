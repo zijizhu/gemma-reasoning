{
 "cells": [
  {
   "cell_type": "code",
   "execution_count": null,
   "metadata": {},
   "outputs": [],
   "source": [
    "import os\n",
    "import random\n",
    "import numpy as np\n",
    "import huggingface_hub\n",
    "from datasets import load_dataset\n",
    "from fol import convert_to_nltk_rep\n",
    "\n",
    "huggingface_hub.login(os.environ['HUGGINGFACE_TOKEN'])\n",
    "\n",
    "folio_train = load_dataset('yale-nlp/FOLIO', split='train')\n",
    "folio_val = load_dataset('yale-nlp/FOLIO', split='validation')"
   ]
  },
  {
   "cell_type": "code",
   "execution_count": null,
   "metadata": {},
   "outputs": [],
   "source": [
    "def fol_to_nltk(example):\n",
    "    example['premises-FOL-nltk'] = convert_to_nltk_rep(example['premises-FOL'])\n",
    "    example['conclusion-FOL-nltk'] = convert_to_nltk_rep(example['conclusion-FOL'])\n",
    "    return example"
   ]
  },
  {
   "cell_type": "code",
   "execution_count": null,
   "metadata": {},
   "outputs": [],
   "source": [
    "folio_train = folio_train.map(fol_to_nltk)\n",
    "folio_val = folio_val.map(fol_to_nltk)"
   ]
  },
  {
   "cell_type": "code",
   "execution_count": null,
   "metadata": {},
   "outputs": [],
   "source": [
    "\n",
    "instruction = (\"The following is a first-order logic (FOL) problem.\\n\"\n",
    "               \"The problem is to determine whether the conclusion follows from the premises.\\n\"\n",
    "               \"The premises are given in the form of a set of first-order logic sentences.\\n\"\n",
    "               \"The conclusion is given in the form of a single first-order logic sentence.\\n\"\n",
    "               \"The task is to translate each of the premises and conclusions into FOL expressions,\" \n",
    "               \"so that the expressions can be evaluated by a theorem solver to determine whether the conclusion follows from the premises.\\n\"\n",
    "               \"Expressions should be adhere to the format of the Python NLTK package logic module.\\n\\n\")\n",
    "\n",
    "def get_example_prompt_str(dataset, n_shots=8):\n",
    "    example_prompts = []\n",
    "    example_columns = ['premises', 'premises-FOL-nltk', 'conclusion', 'conclusion-FOL-nltk']\n",
    "    sampled_idxs = random.sample(range(len(dataset)), n_shots)\n",
    "    for example in dataset.select(sampled_idxs).select_columns(example_columns).iter(batch_size=1):\n",
    "        p, p_fol, c, c_fol = tuple(example[k][0] for k in example_columns)\n",
    "        fol_lines_p, fol_lines_c = [], []\n",
    "        for p_line, p_fol_line in zip(p.splitlines(), p_fol.splitlines()):\n",
    "            fol_lines_p += [f'TEXT: {p_line}', f'FOL: {p_fol_line}']\n",
    "        for c_line, c_fol_line in zip(c.splitlines(), c_fol.splitlines()):\n",
    "            fol_lines_c += [f'TEXT: {c_line}', f'FOL: {c_fol_line}']\n",
    "        example_prompts+= ['<PREMISES>\\n', p, '\\n<PREMISES>\\n',\n",
    "                        '<CONCLUSION>\\n', c, '\\n<CONCLUSION>\\n',\n",
    "                        '<EVALUATE>\\n', '\\n'.join(fol_lines_p), '\\n', '\\n'.join(fol_lines_p), '\\n<EVALUATE>\\n\\n']\n",
    "    example_prompt_str = ''.join(example_prompts)\n",
    "    return example_prompt_str\n",
    "prompt = instruction + example_prompt_str\n",
    "print(prompt)"
   ]
  },
  {
   "cell_type": "code",
   "execution_count": null,
   "metadata": {},
   "outputs": [],
   "source": [
    "def create_prompt(example, instruction='', example_prompt_str=''):\n",
    "    assert instruction and example_prompt_str\n",
    "    question = ['<PREMISES>\\n', example['premises'], '\\n<PREMISES>\\n',\n",
    "                '<CONCLUSION>\\n', example['conclusion'], '\\n<CONCLUSION>\\n', '<EVALUATE>\\n']\n",
    "    example['prompt'] = instruction + example_prompt_str + ''.join(question)\n",
    "    return example\n",
    "\n",
    "folio_val = folio_val.map(\n",
    "    create_prompt,\n",
    "    fn_kwargs=dict(\n",
    "        instruction=instruction,\n",
    "        example_prompt_str=example_prompt_str\n",
    "    )\n",
    ")"
   ]
  },
  {
   "cell_type": "code",
   "execution_count": null,
   "metadata": {},
   "outputs": [],
   "source": [
    "print(folio_val[0]['prompt'])"
   ]
  },
  {
   "cell_type": "code",
   "execution_count": null,
   "metadata": {},
   "outputs": [],
   "source": []
  }
 ],
 "metadata": {
  "kernelspec": {
   "display_name": "research",
   "language": "python",
   "name": "python3"
  },
  "language_info": {
   "codemirror_mode": {
    "name": "ipython",
    "version": 3
   },
   "file_extension": ".py",
   "mimetype": "text/x-python",
   "name": "python",
   "nbconvert_exporter": "python",
   "pygments_lexer": "ipython3",
   "version": "3.11.8"
  }
 },
 "nbformat": 4,
 "nbformat_minor": 2
}
